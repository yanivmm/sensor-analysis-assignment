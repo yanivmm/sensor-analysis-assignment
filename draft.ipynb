{
 "cells": [
  {
   "cell_type": "code",
   "execution_count": null,
   "id": "24e2c3d9-d8e4-4f5f-b475-2f6270e67910",
   "metadata": {},
   "outputs": [],
   "source": [
    "cols_to_check = [\n",
    "    'device_model', 'firmware_version', 'calibration_status',\n",
    "    'battery_level', 'gps_accuracy', 'sensor_source', 'network_type'\n",
    "]\n",
    "\n",
    "for col in cols_to_check:\n",
    "    if col in test.columns and col in inference.columns:\n",
    "        plt.figure(figsize=(10, 4))\n",
    "        test_counts = test[col].value_counts(normalize=True)\n",
    "        inf_counts = inference[col].value_counts(normalize=True)\n",
    "        df_compare = pd.DataFrame({'Test': test_counts, 'Inference': inf_counts}).fillna(0)\n",
    "        df_compare.plot(kind='bar', ax=plt.gca())\n",
    "        plt.title(f'Distribution of {col} in Test vs Inference')\n",
    "        plt.ylabel('Proportion')\n",
    "        plt.xlabel(col)\n",
    "        plt.xticks(rotation=45)\n",
    "        plt.show()"
   ]
  },
  {
   "cell_type": "code",
   "execution_count": null,
   "id": "4360590a-deee-41ec-aecc-1be5d34b5402",
   "metadata": {},
   "outputs": [],
   "source": [
    "# An attemp of making a correlation heatmap in absulute values for better visability \n",
    "corr = train.select_dtypes(include='number').corr()\n",
    "\n",
    "plt.figure(figsize=(12, 8))\n",
    "sns.heatmap(\n",
    "    corr, \n",
    "    cmap='coolwarm', \n",
    "    center=0, \n",
    "    vmin=-1, vmax=1, \n",
    "    annot=False, \n",
    "    linewidths=0.5,\n",
    "    cbar_kws={'label': 'Correlation'}\n",
    ")\n",
    "plt.title('Feature Correlation Heatmap (Red = Strong, Blue = Weak)')\n",
    "plt.show()"
   ]
  },
  {
   "cell_type": "code",
   "execution_count": null,
   "id": "3c6a565b-75b6-4813-8ed4-0ffeafd8875f",
   "metadata": {},
   "outputs": [],
   "source": [
    "for feature in ['x_mean', 'y_mean', 'z_mean']:\n",
    "    sns.histplot(train[feature], color='blue', label='train', kde=True, stat='density')\n",
    "    sns.histplot(test[feature], color='green', label='test', kde=True, stat='density')\n",
    "    sns.histplot(inference[feature], color='red', label='inference', kde=True, stat='density')\n",
    "    plt.legend()\n",
    "    plt.title(f'Comparison of {feature}')\n",
    "    plt.show()"
   ]
  },
  {
   "cell_type": "code",
   "execution_count": null,
   "id": "e8cea1fd-86ac-4d97-b291-f1f78c68f06a",
   "metadata": {},
   "outputs": [],
   "source": [
    "import numpy as np\n",
    "from scipy.spatial.distance import jensenshannon\n",
    "\n",
    "meta_cols = [\n",
    "    'device_model', 'firmware_version', 'calibration_status',\n",
    "    'battery_level', 'gps_accuracy', 'sensor_source', 'network_type'\n",
    "]\n",
    "\n",
    "for col in meta_cols:\n",
    "    if col in test.columns and col in inference.columns:\n",
    "        test_counts = test[col].value_counts(normalize=True)\n",
    "        inf_counts = inference[col].value_counts(normalize=True)\n",
    "        # Align indexes\n",
    "        all_categories = set(test_counts.index).union(set(inf_counts.index))\n",
    "        test_dist = np.array([test_counts.get(cat, 0) for cat in all_categories])\n",
    "        inf_dist = np.array([inf_counts.get(cat, 0) for cat in all_categories])\n",
    "        # JS divergence\n",
    "        js_div = jensenshannon(test_dist, inf_dist)\n",
    "        print(f\"{col}: JS divergence = {js_div:.3f}\")\n",
    "        if js_div > 0.2:\n",
    "            print(f\"  -> Significant difference detected in {col}!\\n\")\n"
   ]
  }
 ],
 "metadata": {
  "kernelspec": {
   "display_name": "Python 3.11",
   "language": "python",
   "name": "python311"
  },
  "language_info": {
   "codemirror_mode": {
    "name": "ipython",
    "version": 3
   },
   "file_extension": ".py",
   "mimetype": "text/x-python",
   "name": "python",
   "nbconvert_exporter": "python",
   "pygments_lexer": "ipython3",
   "version": "3.11.0"
  }
 },
 "nbformat": 4,
 "nbformat_minor": 5
}
